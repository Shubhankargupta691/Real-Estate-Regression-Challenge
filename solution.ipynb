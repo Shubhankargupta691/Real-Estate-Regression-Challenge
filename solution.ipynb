{
 "cells": [
  {
   "attachments": {},
   "cell_type": "markdown",
   "metadata": {},
   "source": [
    "# Regression Challenge\n",
    "\n",
    "Predicting the selling price of a residential property depends on a number of factors, including the property age, availability of local amenities, and location.\n",
    "\n",
    "In this challenge, you will use a dataset of real estate sales transactions to predict the price-per-unit of a property based on its features. The price-per-unit in this data is based on a unit measurement of 3.3 square meters.\n",
    "\n",
    "> **Citation**: The data used in this exercise originates from the following study:\n",
    ">\n",
    "> *Yeh, I. C., & Hsu, T. K. (2018). Building real estate valuation models with comparative approach through case-based reasoning. Applied Soft Computing, 65, 260-271.*\n",
    ">\n",
    "> It was obtained from the UCI dataset repository (Dua, D. and Graff, C. (2019). [UCI Machine Learning Repository](http://archive.ics.uci.edu/ml). Irvine, CA: University of California, School of Information and Computer Science).\n",
    "\n",
    "## Review the data\n",
    "\n",
    "Run the following cell to load the data and view the first few rows."
   ]
  },
  {
   "cell_type": "code",
   "execution_count": null,
   "metadata": {},
   "outputs": [],
   "source": [
    "import pandas as pd\n",
    "\n",
    "df = pd.read_csv('data/real_estate.csv')\n",
    "df.head()"
   ]
  },
  {
   "attachments": {},
   "cell_type": "markdown",
   "metadata": {},
   "source": [
    "The data consists of the following variables:\n",
    "\n",
    "- **transaction_date** - the transaction date (for example, 2013.250=2013 March, 2013.500=2013 June, etc.)\n",
    "- **house_age** - the house age (in years)\n",
    "- **transit_distance** - the distance to the nearest light rail station (in meters)\n",
    "- **local_convenience_stores** - the number of convenience stores within walking distance\n",
    "- **latitude** - the geographic coordinate, latitude\n",
    "- **longitude** - the geographic coordinate, longitude\n",
    "- **price_per_unit** house price of unit area (3.3 square meters)\n",
    "\n",
    "## Train a Regression Model\n",
    "\n",
    "Your challenge is to explore and prepare the data, identify predictive features that will help predict the **price_per_unit** label, and train a regression model that achieves the lowest Root Mean Square Error (RMSE) you can achieve (which must be less than **7**) when evaluated against a test subset of data.\n",
    "\n",
    "Add markdown and code cells as required to create your solution.\n",
    "\n",
    "> **Note**: There is no single \"correct\" solution. A sample solution is provided in [02 - Real Estate Regression Solution.ipynb](02%20-%20Real%20Estate%20Regression%20Solution.ipynb)."
   ]
  },
  {
   "cell_type": "code",
   "execution_count": null,
   "metadata": {},
   "outputs": [],
   "source": [
    "import pandas as pd\n",
    "import matplotlib.pyplot as plt\n",
    "%matplotlib inline\n",
    "\n",
    "# Get the label column\n",
    "label = df[df.columns[-1]]\n",
    "\n",
    "# Create a figure for 2 subplots (2 rows, 1 column)\n",
    "fig, ax = plt.subplots(2, 1, figsize = (9,12))\n",
    "\n",
    "\n",
    "# plot the histogram\n",
    "\n",
    "ax[0].hist(label, bins= 100)\n",
    "ax[0].set_ylabel('Frequency')\n",
    "\n",
    "# Add lines for the mean, meadian and mode\n",
    "ax[0].axvline(label.mean(), color= 'magenta', linestyle='dashed', linewidth=2)\n",
    "ax[0].axvline(label.median(), color='cyan', linestyle='dashed', linewidth=2)\n",
    "\n",
    "# plot the boxplot\n",
    "\n",
    "ax[1].boxplot(label, vert= False)\n",
    "ax[1].set_xlabel('label')\n",
    "\n",
    "# Add a title to the figure\n",
    "\n",
    "fig.suptitle('Label Distribution')\n",
    "\n",
    "# Show the figure\n",
    "fig.show()"
   ]
  },
  {
   "attachments": {},
   "cell_type": "markdown",
   "metadata": {},
   "source": [
    "# Remove outliers "
   ]
  },
  {
   "cell_type": "code",
   "execution_count": null,
   "metadata": {},
   "outputs": [],
   "source": [
    "df = df[df['price_per_unit'] < 70]\n",
    "# Get the label column\n",
    "\n",
    "label = df[df.columns[-1]]\n",
    "\n",
    "# Create a figure for 2 subplots (2 rows, 1 column)\n",
    "fig, ax = plt.subplots(2, 1, figsize = (9,12))\n",
    "\n",
    "\n",
    "# plot the histogram\n",
    "\n",
    "ax[0].hist(label, bins= 100)\n",
    "ax[0].set_ylabel('frequency')\n",
    "\n",
    "# Add lines for the mean, meadian and mode\n",
    "ax[0].axvline(label.mean(), color= 'magenta', linestyle='dashed', linewidth=2)\n",
    "ax[0].axvline(label.median(), color='cyan', linestyle='dashed', linewidth=2)\n",
    "\n",
    "# plot the boxplot\n",
    "\n",
    "ax[1].boxplot(label, vert= False)\n",
    "ax[1].set_xlabel('label')\n",
    "\n",
    "# Add a title to the figure\n",
    "\n",
    "fig.suptitle('Label Distribution')\n",
    "\n",
    "# Show the figure\n",
    "fig.show()\n"
   ]
  },
  {
   "attachments": {},
   "cell_type": "markdown",
   "metadata": {},
   "source": [
    "## view numeric correlation"
   ]
  },
  {
   "cell_type": "code",
   "execution_count": null,
   "metadata": {},
   "outputs": [],
   "source": [
    "for col in df[df.columns[:-1]]:\n",
    "    fig = plt.figure(figsize= (9, 16)) # Aspect ratio\n",
    "    ax = fig.gca()\n",
    "    feature = df[col]\n",
    "    correlation = feature.corr(label)\n",
    "    plt.scatter(x=feature, y=label)\n",
    "    plt.xlabel(col)\n",
    "    plt.ylabel('Correlations')\n",
    "    ax.set_title('Label vs ' + col + '- correlation: ' + str(correlation))\n",
    "plt.show()"
   ]
  },
  {
   "attachments": {},
   "cell_type": "markdown",
   "metadata": {},
   "source": [
    "## View categorical features\n",
    "\n",
    "(transaction_date and local_convenience_stores seem to be discrete values, so might work better if treated as categorical features)\n"
   ]
  },
  {
   "cell_type": "code",
   "execution_count": null,
   "metadata": {},
   "outputs": [],
   "source": [
    "# plot a boxplot for the label by each categorical feature\n",
    "\n",
    "for col in df[['transaction_date', 'local_convenience_stores']]:\n",
    "    fig = plt.figure(figsize= (9, 16))\n",
    "    ax = fig.gca()\n",
    "    df.boxplot(column= 'price_per_unit', by = col, ax = ax)\n",
    "    ax.set_title('label by '+ col)\n",
    "    ax.set_ylabel(\"Label Distribution by Categorical Variable\")\n",
    "plt.show()"
   ]
  },
  {
   "attachments": {},
   "cell_type": "markdown",
   "metadata": {},
   "source": [
    "## Separate features and label and split data for training and validation\n",
    "\n",
    "(transaction_date doesn't seem to be very predictive, so omit it)\n"
   ]
  },
  {
   "cell_type": "code",
   "execution_count": null,
   "metadata": {},
   "outputs": [],
   "source": [
    "from sklearn.model_selection import train_test_split\n",
    "# Separate features (columns 1 [house_age] to the last but one) and labels (the last column)\n",
    "\n",
    "X, y = df[df.columns[1:-1]].values, df[df.columns[-1]].values\n",
    "# Split data 70%-30% into training set and test set\n",
    "X_train, X_test, y_train, y_test = train_test_split(X, y, test_size=0.30, random_state=0)\n",
    "\n",
    "print ('Training Set: %d, rows\\nTest Set: %d rows' % (X_train.shape[0], X_test.shape[0]))"
   ]
  },
  {
   "attachments": {},
   "cell_type": "markdown",
   "metadata": {},
   "source": [
    "## Preprocess the data and train a model in a pipeline\n",
    "\n",
    "Normalize the numeric features, then use a RandomForestRegressor to train a model.\n"
   ]
  },
  {
   "cell_type": "code",
   "execution_count": null,
   "metadata": {},
   "outputs": [],
   "source": [
    "# Train the model\n",
    "from sklearn.compose import ColumnTransformer\n",
    "from sklearn.pipeline import Pipeline\n",
    "from sklearn.impute import SimpleImputer\n",
    "from sklearn.preprocessing import StandardScaler, OrdinalEncoder\n",
    "from sklearn.ensemble import RandomForestRegressor\n",
    "import numpy as np\n",
    "\n",
    "# Define preprocessing for numeric columns (scale them)\n",
    "numeric_features = [0,1,3,4]\n",
    "numeric_transformer = Pipeline(steps=[\n",
    "    ('scaler', StandardScaler())])\n",
    "\n",
    "# Combine preprocessing steps\n",
    "preprocessor = ColumnTransformer(\n",
    "    transformers=[\n",
    "        ('num', numeric_transformer, numeric_features),\n",
    "    ])\n",
    "\n",
    "# Create preprocessing and training pipeline\n",
    "\n",
    "pipeline = Pipeline(steps=[('preprocessor', preprocessor),\n",
    "                           ('regressor', RandomForestRegressor())])\n",
    "\n",
    "\n",
    "# fit the pipeline to train a linear regression model on the training set\n",
    "model = pipeline.fit(X_train, (y_train))\n",
    "print (model)"
   ]
  },
  {
   "cell_type": "code",
   "execution_count": null,
   "metadata": {},
   "outputs": [],
   "source": [
    "import matplotlib.pyplot as plt\n",
    "from sklearn.metrics import r2_score, mean_squared_error\n",
    "%matplotlib inline\n",
    "\n",
    "prediction = model.predict(X_test)\n",
    "\n",
    "mse = mean_squared_error(y_test, prediction)\n",
    "print(\"MSE\", mse)\n",
    "\n",
    "rmse = np.sqrt(mse)\n",
    "print(\"RMSE\", rmse)\n",
    "\n",
    "r2 = r2_score(y_test, prediction)\n",
    "print(\"R2\", r2)\n",
    "\n",
    "plt.scatter(y_test, prediction)\n",
    "plt.xlabel('Actual Labels')\n",
    "plt.ylabel('prediction label')\n",
    "plt.title('prediction vs Actuals')\n",
    "\n",
    "z = np.polyfit(y_test, prediction, 1) # for red line\n",
    "p = np.poly1d(z)\n",
    "plt.plot(y_test,p(y_test), color='red')\n",
    "plt.show()"
   ]
  },
  {
   "attachments": {},
   "cell_type": "markdown",
   "metadata": {},
   "source": [
    "## Use the trained Model\n",
    "\n",
    "Save your trained model, and then use it to predict the price-per-unit for the following real estate transactions:"
   ]
  },
  {
   "cell_type": "code",
   "execution_count": null,
   "metadata": {},
   "outputs": [],
   "source": [
    "import joblib\n",
    "\n",
    "filename = \"./real_estate_model.pkl\"\n",
    "joblib.dump(model, filename)\n",
    "\n",
    "loaded_model = joblib.load(filename)\n",
    "\n",
    "X_new = np.array([[16.2,289.3248,5,24.98203,121.54348],\n",
    "                  [13.6,4082.015,0,24.94155,121.5038]])\n",
    "results = loaded_model.predict(X_new)\n",
    "print('Predictions:')\n",
    "for prediction in results:\n",
    "    print(round(prediction,2))"
   ]
  }
 ],
 "metadata": {
  "kernelspec": {
   "display_name": "Python 3",
   "language": "python",
   "name": "python3"
  },
  "language_info": {
   "codemirror_mode": {
    "name": "ipython",
    "version": 3
   },
   "file_extension": ".py",
   "mimetype": "text/x-python",
   "name": "python",
   "nbconvert_exporter": "python",
   "pygments_lexer": "ipython3",
   "version": "3.11.3"
  },
  "orig_nbformat": 4
 },
 "nbformat": 4,
 "nbformat_minor": 2
}
